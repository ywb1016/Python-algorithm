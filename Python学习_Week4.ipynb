{
 "cells": [
  {
   "cell_type": "markdown",
   "metadata": {},
   "source": [
    "# 东北大学：大学计算机--Python算法实践"
   ]
  },
  {
   "cell_type": "markdown",
   "metadata": {},
   "source": [
    "## 第四周：查找算法"
   ]
  },
  {
   "cell_type": "markdown",
   "metadata": {},
   "source": [
    "### 4.1 列表"
   ]
  },
  {
   "cell_type": "code",
   "execution_count": 1,
   "metadata": {},
   "outputs": [],
   "source": [
    "#列表\n",
    "#数据序列，是能存储多个数据的连续存储空间\n",
    "#列表的创建\n",
    "a_list = [1,3,5,7,9]\n",
    "a_list = ['this','is','a','list','example',1,2,4]\n",
    "b_list = list('hello')\n",
    "b_list = list(range(1,20,2))\n",
    "\n",
    "\n",
    "#列表的访问\n",
    "a_list = ['this','is','a','list','example',1,2,3]\n",
    "#下标访问，下标从0开始\n",
    "a_list[1]\n",
    "a_list[7]\n",
    "a_list[8]#IndexError: list index out of range\n",
    "#下标为负数\n",
    "a_list[-1]\n",
    "#切片\n",
    "a_list[1:3]#包前不包后\n",
    "a_list[1:]#从下标1开始（包括第一个）返回之后的所有的元素\n",
    "\n",
    "\n",
    "#列表的遍历\n",
    "a_list = ['this','is','a','list','example',1,2,3]\n",
    "for x in a_list:\n",
    "    print(x)\n",
    "    \n",
    "a_list = ['this','is','a','list','example',1,2,3]\n",
    "for i in range(len(a_list)):\n",
    "    print(a_list[i])"
   ]
  },
  {
   "cell_type": "code",
   "execution_count": 2,
   "metadata": {},
   "outputs": [
    {
     "name": "stdout",
     "output_type": "stream",
     "text": [
      "[1, 3, 5, 7, 9, 11, 13, 15, 17, 19]\n"
     ]
    }
   ],
   "source": [
    "b_list = list(range(1,20,2))\n",
    "print(b_list)"
   ]
  },
  {
   "cell_type": "code",
   "execution_count": 10,
   "metadata": {},
   "outputs": [
    {
     "data": {
      "text/plain": [
       "['is', 'a', 'list', 'example', 1, 2, 3]"
      ]
     },
     "execution_count": 10,
     "metadata": {},
     "output_type": "execute_result"
    }
   ],
   "source": [
    "a_list = ['this','is','a','list','example',1,2,3]\n",
    "a_list[-1]\n",
    "\n",
    "a_list[1:]"
   ]
  },
  {
   "cell_type": "code",
   "execution_count": 13,
   "metadata": {},
   "outputs": [
    {
     "data": {
      "text/plain": [
       "['is', 'a', 'list', 'example', 1, 2, 3]"
      ]
     },
     "execution_count": 13,
     "metadata": {},
     "output_type": "execute_result"
    }
   ],
   "source": [
    "a_list[1:]"
   ]
  },
  {
   "cell_type": "code",
   "execution_count": 14,
   "metadata": {},
   "outputs": [
    {
     "name": "stdout",
     "output_type": "stream",
     "text": [
      "this\n",
      "is\n",
      "a\n",
      "list\n",
      "example\n",
      "1\n",
      "2\n",
      "3\n"
     ]
    }
   ],
   "source": [
    "a_list = ['this','is','a','list','example',1,2,3]\n",
    "for x in a_list:\n",
    "    print(x)"
   ]
  },
  {
   "cell_type": "code",
   "execution_count": 15,
   "metadata": {},
   "outputs": [
    {
     "name": "stdout",
     "output_type": "stream",
     "text": [
      "this\n",
      "is\n",
      "a\n",
      "list\n",
      "example\n",
      "1\n",
      "2\n",
      "3\n"
     ]
    }
   ],
   "source": [
    "a_list = ['this','is','a','list','example',1,2,3]\n",
    "for i in range(len(a_list)):\n",
    "    print(a_list[i])"
   ]
  },
  {
   "cell_type": "markdown",
   "metadata": {},
   "source": [
    "### 4.2 顺序查找"
   ]
  },
  {
   "cell_type": "code",
   "execution_count": 21,
   "metadata": {},
   "outputs": [
    {
     "name": "stdout",
     "output_type": "stream",
     "text": [
      "请输入要查找的整数: 4\n",
      "找到了,整数4在列表中。\n",
      "请输入要查找的整数: 4\n",
      "找到了，第7个数是4.\n"
     ]
    }
   ],
   "source": [
    "#从头看到尾\n",
    "\n",
    "#遍历列表 第一种办法\n",
    "aList = [1,3,5,7,9,2,4,6,8,10]\n",
    "x = int(input(\"请输入要查找的整数: \"))\n",
    "for i in aList:\n",
    "    if i == x:\n",
    "        print(\"找到了,整数%d在列表中。\"%x)\n",
    "#遍历列表 第二种办法\n",
    "aList = [1,3,5,7,9,2,4,6,8,10]\n",
    "x = int(input(\"请输入要查找的整数: \"))\n",
    "for i in range(len(aList)):\n",
    "    if aList[i] == x:\n",
    "        print(\"找到了，第%d个数是%d.\"%(i+1,x))"
   ]
  },
  {
   "cell_type": "code",
   "execution_count": 23,
   "metadata": {},
   "outputs": [
    {
     "name": "stdout",
     "output_type": "stream",
     "text": [
      "请输入要查找的整数: 55\n",
      "没找到，整数55不在列表中。\n"
     ]
    }
   ],
   "source": [
    "#如果找不到，输出sign=False\n",
    "aList = [1,3,5,7,9,2,4,6,8,10]\n",
    "sign = False\n",
    "x = int(input(\"请输入要查找的整数: \"))\n",
    "for i in range(len(aList)):\n",
    "    if aList[i] == x:\n",
    "        print(\"找到了，第%d个数是%d。\"%(i+1,x))\n",
    "        sign = True\n",
    "if sign == False:\n",
    "    print(\"没找到，整数%d不在列表中。\"%x)"
   ]
  },
  {
   "cell_type": "code",
   "execution_count": 26,
   "metadata": {},
   "outputs": [
    {
     "name": "stdout",
     "output_type": "stream",
     "text": [
      "True\n"
     ]
    }
   ],
   "source": [
    "#数据查找 in\n",
    "aList = [1,3,5,7,9,2,4,6,8,10]\n",
    "#in\n",
    "print(5 in aList)#如果在list 返回True,否则返回False"
   ]
  },
  {
   "cell_type": "code",
   "execution_count": 30,
   "metadata": {},
   "outputs": [
    {
     "data": {
      "text/plain": [
       "2"
      ]
     },
     "execution_count": 30,
     "metadata": {},
     "output_type": "execute_result"
    }
   ],
   "source": [
    "#数据查找 index()函数\n",
    "aList = [1,3,5,7,9,2,4,6,8,10]\n",
    "#index()\n",
    "aList.index(5)#返回第一个数据5的下标\n",
    "aList.index(5,2,10)#返回从下标4开始到下标10之间（不包含10）的第一个数据5的下标\n"
   ]
  },
  {
   "cell_type": "code",
   "execution_count": 33,
   "metadata": {},
   "outputs": [
    {
     "data": {
      "text/plain": [
       "1"
      ]
     },
     "execution_count": 33,
     "metadata": {},
     "output_type": "execute_result"
    }
   ],
   "source": [
    "#数据查找 count()函数\n",
    "aList = [1,3,5,7,9,2,4,6,8,10]\n",
    "#count()\n",
    "aList.count(5) #返回数据5的个数"
   ]
  },
  {
   "cell_type": "code",
   "execution_count": 34,
   "metadata": {},
   "outputs": [
    {
     "name": "stdout",
     "output_type": "stream",
     "text": [
      "请输入要查找的整数: 4\n",
      "找到了，第7个数是4。\n",
      "找到了，第8个数是4。\n"
     ]
    }
   ],
   "source": [
    "#数据查找,输出待查找数据所在位置值\n",
    "aList = [1,2,2,3,3,3,4,4,5,6]\n",
    "sign = False\n",
    "x = int(input(\"请输入要查找的整数: \"))\n",
    "for i in range(len(aList)):\n",
    "    if aList[i] == x:\n",
    "        print(\"找到了，第%d个数是%d。\"%(i+1,x))\n",
    "        sign = True\n",
    "if sign == False:\n",
    "    print(\"没找到，整数%d不在列表中。\"%x)\n",
    "\n",
    "    \n",
    "#可读性较好"
   ]
  },
  {
   "cell_type": "code",
   "execution_count": 37,
   "metadata": {},
   "outputs": [
    {
     "name": "stdout",
     "output_type": "stream",
     "text": [
      "请输入要查找的整数: 11\n",
      "没找到，整数11不在列表中。\n"
     ]
    }
   ],
   "source": [
    "#数据查找,输出待查找数据所在位置值\n",
    "aList = [1,2,2,3,3,3,4,4,5,6]\n",
    "x = int(input(\"请输入要查找的整数: \"))\n",
    "n = aList.count(x)\n",
    "if n == 0:\n",
    "    print(\"没找到，整数%d不在列表中。\"%x)\n",
    "else:\n",
    "    j=0\n",
    "    for i in range(n):\n",
    "        j = aList.index(x,j,len(aList))+1\n",
    "        print(\"找到了了,第%d个数是%d。\"%(j,x))\n",
    "\n",
    "#可读性较差"
   ]
  },
  {
   "cell_type": "markdown",
   "metadata": {},
   "source": [
    "### 4.3 二分查找"
   ]
  },
  {
   "cell_type": "code",
   "execution_count": 38,
   "metadata": {},
   "outputs": [],
   "source": [
    "#aList = [1,3,5,7,9,11,13,15,17,19]\n",
    "#前提： 有序\n",
    "#如果len(list)为奇数中间数就只有一个，如果为偶数，则中间数有两个，则取第一个\n"
   ]
  },
  {
   "cell_type": "code",
   "execution_count": 39,
   "metadata": {},
   "outputs": [],
   "source": [
    "#二分查找结束条件\n",
    "#1. 找到了，mid就是其位置\n",
    "#2. 没找到，start > end\n",
    "#三种情况：sme se, (s和e在同一个位置)\n"
   ]
  },
  {
   "cell_type": "code",
   "execution_count": 48,
   "metadata": {},
   "outputs": [
    {
     "name": "stdout",
     "output_type": "stream",
     "text": [
      "请输入要查找的整数：1\n",
      "找到了， 第1个数是1。\n"
     ]
    }
   ],
   "source": [
    "aList = [1,3,5,7,9,11,13,15,17,19]\n",
    "x = int(input(\"请输入要查找的整数：\"))\n",
    "start = 0\n",
    "end = len(aList)-1\n",
    "while start <= end:\n",
    "    mid = (start+end)//2 #取整除 - 返回商的整数部分（向下取整）\n",
    "    if aList[mid]==x:\n",
    "        break\n",
    "    elif x < aList[mid]:\n",
    "        end = mid-1\n",
    "    else:\n",
    "        start = mid + 1\n",
    "if start <= end:\n",
    "    print(\"找到了， 第%d个数是%d。\"%(mid+1,x))\n",
    "else:\n",
    "    print(\"没找到，整数%d不在列表中。\"%x)"
   ]
  },
  {
   "cell_type": "markdown",
   "metadata": {},
   "source": [
    "### 4.4添加数据"
   ]
  },
  {
   "cell_type": "code",
   "execution_count": 53,
   "metadata": {},
   "outputs": [
    {
     "name": "stdout",
     "output_type": "stream",
     "text": [
      "请输入一个数： 66\n",
      "1\n",
      "3\n",
      "5\n",
      "7\n",
      "9\n",
      "2\n",
      "4\n",
      "66\n"
     ]
    }
   ],
   "source": [
    "#无序的添加数据\n",
    "\n",
    "aList = [1,3,5,7,9,2,4,-1,-1,-1] \n",
    "#约定-1是空白,即选一些不能用的数据在此处填充位置，起到占位符的作用\n",
    "x = input(\"请输入一个数： \")\n",
    "i = len(aList)-1\n",
    "while i >= 0:\n",
    "    if aList[i] != -1:\n",
    "        break\n",
    "    i = i-1\n",
    "#此处的while是为了判断list中元素是否为-1，找到第一个不是-1的元素，此处为4\n",
    "aList[i+1] = x\n",
    "#将输入数字插入数组\n",
    "for x in aList:\n",
    "    if x != -1:\n",
    "        print(x)\n",
    "\n"
   ]
  },
  {
   "cell_type": "code",
   "execution_count": 59,
   "metadata": {},
   "outputs": [
    {
     "name": "stdout",
     "output_type": "stream",
     "text": [
      "请输入一个数： 4\n",
      "1\n",
      "3\n",
      "4\n",
      "5\n",
      "7\n",
      "9\n",
      "12\n",
      "14\n"
     ]
    }
   ],
   "source": [
    "#有序的添加数据\n",
    "aList = [1,3,5,7,9,12,14,-1,-1,-1] \n",
    "x = int(input(\"请输入一个数： \"))\n",
    "i = len(aList)-1\n",
    "while i >= 0:\n",
    "    if aList[i] == -1:\n",
    "        pass#pass :不做任何事情，只起到占位的作用\n",
    "    elif aList[i]>x:\n",
    "        aList[i+1]=aList[i] #如果比x大，将原来的第i位后移一位\n",
    "    else:\n",
    "        break#break：结束循环 ,exit():结束整个程序,continue: 跳出本次循环\n",
    "    i = i-1\n",
    "aList[i+1] = x\n",
    "\n",
    "for x in aList:\n",
    "    if x!= -1:\n",
    "        print(x)"
   ]
  },
  {
   "cell_type": "code",
   "execution_count": null,
   "metadata": {},
   "outputs": [],
   "source": [
    "# Python中数据添加的函数\n",
    "aList = [1,3,5,7,9,2,4]\n",
    "append()\n",
    "extend()\n",
    "insert()"
   ]
  },
  {
   "cell_type": "code",
   "execution_count": 61,
   "metadata": {},
   "outputs": [
    {
     "name": "stdout",
     "output_type": "stream",
     "text": [
      "请输入一个整数: 55\n",
      "1\n",
      "3\n",
      "5\n",
      "7\n",
      "9\n",
      "2\n",
      "4\n",
      "55\n"
     ]
    }
   ],
   "source": [
    "#append()将一个元素添加到原来list中的结束位置\n",
    "aList = [1,3,5,7,9,2,4]\n",
    "x = int(input(\"请输入一个整数: \"))\n",
    "aList.append(x)\n",
    "for x in aList:\n",
    "    print(x)"
   ]
  },
  {
   "cell_type": "code",
   "execution_count": 62,
   "metadata": {},
   "outputs": [
    {
     "name": "stdout",
     "output_type": "stream",
     "text": [
      "1\n",
      "3\n",
      "5\n",
      "7\n",
      "9\n",
      "12\n",
      "14\n",
      "23\n",
      "25\n",
      "27\n"
     ]
    }
   ],
   "source": [
    "#extend()可以一次添加一批数\n",
    "aList = [1,3,5,7,9,12,14]\n",
    "aList.extend([23,25,27])\n",
    "for x in aList:\n",
    "    print(x)"
   ]
  },
  {
   "cell_type": "code",
   "execution_count": 63,
   "metadata": {},
   "outputs": [
    {
     "name": "stdout",
     "output_type": "stream",
     "text": [
      "请输入一个整数：22\n",
      "1\n",
      "22\n",
      "3\n",
      "5\n",
      "7\n",
      "9\n",
      "12\n",
      "14\n"
     ]
    }
   ],
   "source": [
    "#insert(i,x)在第list[i]中插入x\n",
    "aList = [1,3,5,7,9,12,14]\n",
    "x = int(input(\"请输入一个整数：\"))\n",
    "aList.insert(1,x)\n",
    "for x in aList:\n",
    "    print(x)"
   ]
  },
  {
   "cell_type": "markdown",
   "metadata": {},
   "source": [
    "### 4.5 删除数据"
   ]
  },
  {
   "cell_type": "code",
   "execution_count": 69,
   "metadata": {},
   "outputs": [
    {
     "name": "stdout",
     "output_type": "stream",
     "text": [
      "请输入要删除的整数：5\n",
      "1\n",
      "3\n",
      "5\n",
      "7\n",
      "9\n",
      "2\n",
      "4\n",
      "6\n",
      "8\n",
      "10\n"
     ]
    }
   ],
   "source": [
    "#实现删除某一个数，并且其后面的数往前移一位\n",
    "aList = [1,3,5,7,9,2,4,6,8,10]\n",
    "x = int(input(\"请输入要删除的整数：\"))\n",
    "n = len(aList)\n",
    "for i in range(n):\n",
    "    if aList[i] == x:\n",
    "        break;\n",
    "#此处for为遍历list，找到要删除的整数\n",
    "for j in range(i,n-1):\n",
    "    aList[j] = aList[j+1]\n",
    "#此处for为将删除的x后面的数都往前移一位\n",
    "aList[n-1] = -1#将最后一位赋空值\n",
    "\n",
    "for x in aList:\n",
    "    if x!= -1:\n",
    "        print(x)\n",
    "        \n",
    "#缺点：1.如果列表中没有x，则无法处理\n",
    "#     2.如果列表中有多个x，则无法处理"
   ]
  },
  {
   "cell_type": "code",
   "execution_count": 72,
   "metadata": {},
   "outputs": [
    {
     "name": "stdout",
     "output_type": "stream",
     "text": [
      "请输入要删除的整数：1\n",
      "3\n",
      "5\n",
      "7\n",
      "9\n",
      "2\n",
      "4\n",
      "6\n",
      "8\n",
      "10\n"
     ]
    }
   ],
   "source": [
    "#实现删除某一个数，并且其后面的数往前移一位,\n",
    "aList = [1,3,5,7,9,2,4,6,8,10]\n",
    "x = int(input(\"请输入要删除的整数：\"))\n",
    "n = len(aList)\n",
    "for i in range(n):\n",
    "    if aList[i] == x:\n",
    "        aList[i] = -1\n",
    "\n",
    "for x in aList:\n",
    "    if x != -1:\n",
    "        print(x)\n",
    "        \n",
    "#优化删除程序，一般计算机都是使用这种方式删除数据\n"
   ]
  },
  {
   "cell_type": "code",
   "execution_count": null,
   "metadata": {},
   "outputs": [],
   "source": [
    "#python中删除数据的函数\n",
    "aList = [1,3,5,7,9,2,4,6,8,10]\n",
    "pop()#删除列表中的最后一个元素\n",
    "remove()#删除第一个符合要求的数据"
   ]
  },
  {
   "cell_type": "code",
   "execution_count": 77,
   "metadata": {},
   "outputs": [
    {
     "name": "stdout",
     "output_type": "stream",
     "text": [
      "1\n",
      "3\n",
      "5\n",
      "7\n",
      "9\n",
      "2\n",
      "4\n",
      "6\n",
      "8\n"
     ]
    }
   ],
   "source": [
    "aList = [1,3,5,7,9,2,4,6,8,10]\n",
    "aList.pop()#删除列表中的最后一个元素\n",
    "for x in aList:\n",
    "    print(x)"
   ]
  },
  {
   "cell_type": "code",
   "execution_count": 78,
   "metadata": {},
   "outputs": [
    {
     "name": "stdout",
     "output_type": "stream",
     "text": [
      "1\n",
      "5\n",
      "7\n",
      "9\n",
      "2\n",
      "4\n",
      "6\n",
      "8\n",
      "10\n"
     ]
    }
   ],
   "source": [
    "aList = [1,3,5,7,9,2,4,6,8,10]\n",
    "aList.pop(1)#删除指定位置的数据\n",
    "for x in aList:\n",
    "    print(x)"
   ]
  },
  {
   "cell_type": "code",
   "execution_count": 80,
   "metadata": {},
   "outputs": [
    {
     "name": "stdout",
     "output_type": "stream",
     "text": [
      "1\n",
      "3\n",
      "5\n",
      "7\n",
      "9\n",
      "2\n",
      "4\n",
      "6\n",
      "8\n",
      "10\n"
     ]
    }
   ],
   "source": [
    "aList = [1,3,5,7,9,9,2,4,6,8,10]\n",
    "aList.remove(9)#删除第一个符合要求的数据\n",
    "for x in aList:\n",
    "    print(x)"
   ]
  },
  {
   "cell_type": "code",
   "execution_count": 82,
   "metadata": {},
   "outputs": [
    {
     "name": "stdout",
     "output_type": "stream",
     "text": [
      "请输入要删除的整数：1\n",
      "2\n",
      "3\n",
      "3\n",
      "3\n",
      "4\n",
      "4\n",
      "5\n",
      "6\n"
     ]
    }
   ],
   "source": [
    "#删除列表中的所以重复数据\n",
    "aList = [1,2,3,3,3,4,4,5,6]\n",
    "x = int(input(\"请输入要删除的整数：\"))\n",
    "n = aList.count(x)\n",
    "if n != 0:\n",
    "    for i in range(n):\n",
    "        aList.remove(x)\n",
    "\n",
    "for x in aList:\n",
    "    print(x)"
   ]
  },
  {
   "cell_type": "code",
   "execution_count": null,
   "metadata": {},
   "outputs": [],
   "source": []
  }
 ],
 "metadata": {
  "kernelspec": {
   "display_name": "Python 3",
   "language": "python",
   "name": "python3"
  },
  "language_info": {
   "codemirror_mode": {
    "name": "ipython",
    "version": 3
   },
   "file_extension": ".py",
   "mimetype": "text/x-python",
   "name": "python",
   "nbconvert_exporter": "python",
   "pygments_lexer": "ipython3",
   "version": "3.7.4"
  }
 },
 "nbformat": 4,
 "nbformat_minor": 2
}
